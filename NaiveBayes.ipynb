{
 "cells": [
  {
   "cell_type": "markdown",
   "id": "d5d72067",
   "metadata": {},
   "source": [
    "##### Naive Bayes Model for this kind of problem gives us speedy training of datasets. Naive Bayes models are easy to interpret and understand. The probabilistic nature of the model allows for straightforward interpretation of feature importance and contribution to the target variable. However, Naive Bayes assumes that all features are independent of each other given the target variable. This assumption may not hold true in real-world scenarios, which can limit the model's predictive accuracy."
   ]
  },
  {
   "cell_type": "code",
   "execution_count": 61,
   "id": "35e7547c",
   "metadata": {},
   "outputs": [],
   "source": [
    "import pandas as pd\n",
    "import numpy as np\n",
    "import seaborn as sns\n",
    "import matplotlib.pyplot as plt\n",
    "from sklearn.model_selection import train_test_split, GridSearchCV\n",
    "from sklearn.naive_bayes import GaussianNB\n",
    "from sklearn.metrics import confusion_matrix, accuracy_score\n",
    "from imblearn.over_sampling import RandomOverSampler"
   ]
  },
  {
   "cell_type": "code",
   "execution_count": 3,
   "id": "8f633420",
   "metadata": {},
   "outputs": [],
   "source": [
    "# Load the dataset\n",
    "data = pd.read_csv('application_train.csv')"
   ]
  },
  {
   "cell_type": "code",
   "execution_count": 4,
   "id": "2f08cba8",
   "metadata": {},
   "outputs": [
    {
     "name": "stdout",
     "output_type": "stream",
     "text": [
      "Number of columns: 307511\n"
     ]
    }
   ],
   "source": [
    "# Count the number of columns using the shape attribute\n",
    "num_rows = data.shape[0]\n",
    "print(\"Number of columns:\", num_rows)"
   ]
  },
  {
   "cell_type": "markdown",
   "id": "e0ffeefd",
   "metadata": {},
   "source": [
    "##### Counting the number of columns using the shape attribute helps in understanding the dataset's structure and size, which can provide insights into the data's complexity and dimensionality, aiding in subsequent analysis and modeling decisions."
   ]
  },
  {
   "cell_type": "code",
   "execution_count": 5,
   "id": "960d9203",
   "metadata": {},
   "outputs": [
    {
     "name": "stdout",
     "output_type": "stream",
     "text": [
      "Missing Values:\n",
      "SK_ID_CURR                        0\n",
      "TARGET                            0\n",
      "NAME_CONTRACT_TYPE                0\n",
      "CODE_GENDER                       0\n",
      "FLAG_OWN_CAR                      0\n",
      "                              ...  \n",
      "AMT_REQ_CREDIT_BUREAU_DAY     41519\n",
      "AMT_REQ_CREDIT_BUREAU_WEEK    41519\n",
      "AMT_REQ_CREDIT_BUREAU_MON     41519\n",
      "AMT_REQ_CREDIT_BUREAU_QRT     41519\n",
      "AMT_REQ_CREDIT_BUREAU_YEAR    41519\n",
      "Length: 122, dtype: int64\n"
     ]
    }
   ],
   "source": [
    "# Check for missing values\n",
    "missing_values = data.isnull().sum()\n",
    "print(\"Missing Values:\")\n",
    "print(missing_values)"
   ]
  },
  {
   "cell_type": "markdown",
   "id": "baa0664a",
   "metadata": {},
   "source": [
    "##### Checking for missing values is crucial for the Home Credit problem as it allows identifying and quantifying the extent of missing data. This information is essential for determining appropriate strategies to handle missing values, such as imputation or exclusion."
   ]
  },
  {
   "cell_type": "code",
   "execution_count": 6,
   "id": "71889620",
   "metadata": {},
   "outputs": [],
   "source": [
    "# Drop columns with excessive missing values\n",
    "missing_threshold = 0.5  # Drop columns with more than 50% missing values\n",
    "columns_to_drop = missing_values[missing_values > missing_threshold * len(data)].index\n",
    "data = data.drop(columns_to_drop, axis=1)"
   ]
  },
  {
   "cell_type": "markdown",
   "id": "1ec61601",
   "metadata": {},
   "source": [
    "##### This code chunk drops columns that have a high percentage of missing values, which is necessary to eliminate irrelevant or unreliable features that may hinder the model's ability to learn meaningful patterns and make accurate predictions."
   ]
  },
  {
   "cell_type": "code",
   "execution_count": 7,
   "id": "1098e3fa",
   "metadata": {},
   "outputs": [],
   "source": [
    "# Separate features and target variable\n",
    "X = data.drop('TARGET', axis=1)\n",
    "y = data['TARGET']"
   ]
  },
  {
   "cell_type": "code",
   "execution_count": 8,
   "id": "66431822",
   "metadata": {},
   "outputs": [],
   "source": [
    "# Handle missing numeric values with mean\n",
    "numeric_cols = X.select_dtypes(include=['float64', 'int64']).columns\n",
    "X[numeric_cols] = X[numeric_cols].fillna(X[numeric_cols].mean())"
   ]
  },
  {
   "cell_type": "markdown",
   "id": "c10ef016",
   "metadata": {},
   "source": [
    "##### Filling missing numeric values with the mean ensures a complete dataset for model training. It helps to retain the statistical properties of the data and avoids biasing the model towards any specific value or range."
   ]
  },
  {
   "cell_type": "code",
   "execution_count": 9,
   "id": "fdb53a95",
   "metadata": {},
   "outputs": [],
   "source": [
    "# Handle missing categorical values with a new category 'NA'\n",
    "categorical_cols = X.select_dtypes(include=['object']).columns\n",
    "X[categorical_cols] = X[categorical_cols].fillna('NA')"
   ]
  },
  {
   "cell_type": "markdown",
   "id": "7b24ad1b",
   "metadata": {},
   "source": [
    "##### Replacing missing categorical values with a new category ('NA') ensures that missingness is treated as a distinct category in the dataset, preventing the loss of information due to missing values during subsequent analysis and modeling stages."
   ]
  },
  {
   "cell_type": "code",
   "execution_count": 10,
   "id": "fd28af13",
   "metadata": {},
   "outputs": [],
   "source": [
    "# Perform one-hot encoding for categorical variables\n",
    "X = pd.get_dummies(X)"
   ]
  },
  {
   "cell_type": "markdown",
   "id": "bc50f463",
   "metadata": {},
   "source": [
    "##### One-hot encoding categorical variables is necessary as many machine learning algorithms, including Naive Bayes, require numerical inputs. This encoding technique transforms categorical variables into binary columns, enabling the model to process and learn from categorical data effectively."
   ]
  },
  {
   "cell_type": "code",
   "execution_count": 11,
   "id": "078d2624",
   "metadata": {},
   "outputs": [],
   "source": [
    "# Split the data into training and testing sets\n",
    "X_train, X_test, y_train, y_test = train_test_split(X, y, test_size=0.2, random_state=42)"
   ]
  },
  {
   "cell_type": "code",
   "execution_count": 82,
   "id": "ac823cfe",
   "metadata": {},
   "outputs": [],
   "source": [
    "# Balance the class distribution using oversampling\n",
    "oversampler = RandomOverSampler(random_state=42)\n",
    "X_resampled, y_resampled = oversampler.fit_resample(X_train, y_train)"
   ]
  },
  {
   "cell_type": "markdown",
   "id": "956656ba",
   "metadata": {},
   "source": [
    "##### This code chunk performs oversampling on the training data to address class imbalance. It generates synthetic samples from the minority class to increase its representation and ensure a more balanced distribution between the classes. This helps to mitigate the bias towards the majority class and improve the performance of the model in handling imbalanced data."
   ]
  },
  {
   "cell_type": "code",
   "execution_count": 83,
   "id": "15832f2e",
   "metadata": {},
   "outputs": [],
   "source": [
    "# Define the parameter grid for hyperparameter tuning\n",
    "param_grid = {\n",
    "    'var_smoothing': np.logspace(-9, 0, num=10)\n",
    "}"
   ]
  },
  {
   "cell_type": "markdown",
   "id": "7152a62d",
   "metadata": {},
   "source": [
    "##### This code defines a parameter grid for hyperparameter tuning in the form of a dictionary. It specifies the range of values for the 'var_smoothing' hyperparameter, which will be explored during the hyperparameter search to find the optimal value that maximizes the model's performance."
   ]
  },
  {
   "cell_type": "code",
   "execution_count": 84,
   "id": "396a4dd7",
   "metadata": {},
   "outputs": [],
   "source": [
    "# Create and train a Naive Bayes model\n",
    "naive_bayes = GaussianNB()"
   ]
  },
  {
   "cell_type": "code",
   "execution_count": 85,
   "id": "44d81611",
   "metadata": {},
   "outputs": [
    {
     "data": {
      "text/plain": [
       "GridSearchCV(cv=5, estimator=GaussianNB(),\n",
       "             param_grid={'var_smoothing': array([1.e-09, 1.e-08, 1.e-07, 1.e-06, 1.e-05, 1.e-04, 1.e-03, 1.e-02,\n",
       "       1.e-01, 1.e+00])},\n",
       "             scoring='accuracy')"
      ]
     },
     "execution_count": 85,
     "metadata": {},
     "output_type": "execute_result"
    }
   ],
   "source": [
    "# Perform grid search for hyperparameter tuning\n",
    "grid_search = GridSearchCV(naive_bayes, param_grid, cv=5, scoring='accuracy')\n",
    "grid_search.fit(X_resampled, y_resampled)"
   ]
  },
  {
   "cell_type": "markdown",
   "id": "9207c957",
   "metadata": {},
   "source": [
    "##### Performs grid search with cross-validation to systematically search for the best hyperparameters for the Naive Bayes model. It explores different combinations of hyperparameters defined in the 'param_grid' and evaluates their performance using the accuracy metric. The outcome is the best set of hyperparameters that optimize the model's accuracy on the training data. I wanted to point out what does these lines of codes do: 'cv=5': The number of cross-validation folds to be used during the grid search. In this case, 5-fold cross-validation is performed. 'scoring='accuracy'': The evaluation metric used to assess the performance of different parameter combinations. Here, the accuracy score is used."
   ]
  },
  {
   "cell_type": "code",
   "execution_count": 86,
   "id": "3ecffe27",
   "metadata": {},
   "outputs": [],
   "source": [
    "# Get the best hyperparameters and model\n",
    "best_params = grid_search.best_params_\n",
    "best_model = grid_search.best_estimator_"
   ]
  },
  {
   "cell_type": "code",
   "execution_count": 87,
   "id": "54b7610e",
   "metadata": {},
   "outputs": [],
   "source": [
    "# Make predictions on the testing data with the best model\n",
    "y_pred = best_model.predict(X_test)"
   ]
  },
  {
   "cell_type": "code",
   "execution_count": 66,
   "id": "9855bf6c",
   "metadata": {},
   "outputs": [],
   "source": [
    "# Make predictions on the testing data with the best model\n",
    "y_pred = best_model.predict(X_test)"
   ]
  },
  {
   "cell_type": "code",
   "execution_count": 88,
   "id": "ee30dc7f",
   "metadata": {},
   "outputs": [
    {
     "name": "stdout",
     "output_type": "stream",
     "text": [
      "Accuracy: 0.4441571955839553\n"
     ]
    }
   ],
   "source": [
    "# Calculate accuracy of the Naive Bayes model\n",
    "accuracy = accuracy_score(y_test, y_pred)\n",
    "print(\"Accuracy:\", accuracy)"
   ]
  },
  {
   "cell_type": "markdown",
   "id": "a937d83b",
   "metadata": {},
   "source": [
    "##### This accuracy shows how poor this model performed even after the performance of grid search for hyperparameter tuning. This will also reflect on the model for test data set."
   ]
  },
  {
   "cell_type": "code",
   "execution_count": 89,
   "id": "eaa5878e",
   "metadata": {},
   "outputs": [
    {
     "data": {
      "image/png": "[encoded data removed]",
      "text/plain": [
       "<Figure size 640x480 with 2 Axes>"
      ]
     },
     "metadata": {},
     "output_type": "display_data"
    }
   ],
   "source": [
    "# Create a confusion matrix\n",
    "confusion_mat = confusion_matrix(y_test, y_pred)\n",
    "sns.heatmap(confusion_mat, annot=True, cmap='Blues', fmt='d')\n",
    "plt.xlabel('Predicted Labels')\n",
    "plt.ylabel('True Labels')\n",
    "plt.title('Confusion Matrix')\n",
    "plt.show()"
   ]
  },
  {
   "cell_type": "code",
   "execution_count": 90,
   "id": "86cfe083",
   "metadata": {},
   "outputs": [],
   "source": [
    "# Preprocess the test data similar to the training data\n",
    "test_data = pd.read_csv('application_test.csv')"
   ]
  },
  {
   "cell_type": "code",
   "execution_count": 91,
   "id": "72328dad",
   "metadata": {},
   "outputs": [],
   "source": [
    "# Drop columns with excessive missing values\n",
    "test_data = test_data.drop(columns_to_drop, axis=1)"
   ]
  },
  {
   "cell_type": "code",
   "execution_count": 92,
   "id": "4bae7d60",
   "metadata": {},
   "outputs": [],
   "source": [
    "# Handle missing numeric values with mean\n",
    "test_data[numeric_cols] = test_data[numeric_cols].fillna(test_data[numeric_cols].mean())"
   ]
  },
  {
   "cell_type": "code",
   "execution_count": 93,
   "id": "848e8286",
   "metadata": {},
   "outputs": [],
   "source": [
    "# Handle missing categorical values with a new category 'NA'\n",
    "test_data[categorical_cols] = test_data[categorical_cols].fillna('NA')"
   ]
  },
  {
   "cell_type": "code",
   "execution_count": 94,
   "id": "f87de0f9",
   "metadata": {},
   "outputs": [],
   "source": [
    "# Perform one-hot encoding for categorical variables\n",
    "test_data = pd.get_dummies(test_data)"
   ]
  },
  {
   "cell_type": "code",
   "execution_count": 95,
   "id": "30fb954b",
   "metadata": {},
   "outputs": [],
   "source": [
    "# Align test data columns with training data columns\n",
    "missing_cols = set(X.columns) - set(test_data.columns)\n",
    "for col in missing_cols:\n",
    "    test_data[col] = 0\n",
    "test_data = test_data[X.columns]"
   ]
  },
  {
   "cell_type": "code",
   "execution_count": 96,
   "id": "9dacaae2",
   "metadata": {},
   "outputs": [],
   "source": [
    "# Make predictions on the test data using the best model\n",
    "y_pred_test = best_model.predict(test_data)"
   ]
  },
  {
   "cell_type": "code",
   "execution_count": 97,
   "id": "87978d96",
   "metadata": {},
   "outputs": [],
   "source": [
    "# Create a DataFrame with the 'SK_ID_CURR' column and predictions\n",
    "submission_df = pd.DataFrame({\n",
    "    'SK_ID_CURR': test_data['SK_ID_CURR'],\n",
    "    'TARGET': y_pred_test\n",
    "})"
   ]
  },
  {
   "cell_type": "code",
   "execution_count": 98,
   "id": "56f46dc4",
   "metadata": {},
   "outputs": [],
   "source": [
    "# Save the DataFrame to a CSV file\n",
    "submission_df.to_csv('NBsubmissionv5.csv', index=False)"
   ]
  },
  {
   "cell_type": "markdown",
   "id": "a0f415ca",
   "metadata": {},
   "source": [
    "##### This model got a .57276 private score from Kaggle. This is not the ideal model to be used in this type of problem."
   ]
  },
  {
   "cell_type": "code",
   "execution_count": null,
   "id": "436e8e8d",
   "metadata": {},
   "outputs": [],
   "source": []
  }
 ],
 "metadata": {
  "kernelspec": {
   "display_name": "Python 3 (ipykernel)",
   "language": "python",
   "name": "python3"
  },
  "language_info": {
   "codemirror_mode": {
    "name": "ipython",
    "version": 3
   },
   "file_extension": ".py",
   "mimetype": "text/x-python",
   "name": "python",
   "nbconvert_exporter": "python",
   "pygments_lexer": "ipython3",
   "version": "3.9.13"
  }
 },
 "nbformat": 4,
 "nbformat_minor": 5
}
